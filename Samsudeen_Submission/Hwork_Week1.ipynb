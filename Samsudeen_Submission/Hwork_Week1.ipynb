{
 "cells": [
  {
   "cell_type": "code",
   "execution_count": 1,
   "id": "67ae16b5-9e7d-442f-8553-8abd17bf36df",
   "metadata": {},
   "outputs": [],
   "source": [
    "# on the terminal pip install pandas pyarrow"
   ]
  },
  {
   "cell_type": "markdown",
   "id": "7e25690f-d606-49b6-be32-645271880522",
   "metadata": {},
   "source": [
    "# Q1. Downloading the data"
   ]
  },
  {
   "cell_type": "code",
   "execution_count": 56,
   "id": "f590f663-c714-42dd-97ba-a7169b1afbf6",
   "metadata": {},
   "outputs": [],
   "source": [
    "#Read the data for January. How many columns are there?\n",
    "import pandas as pd\n",
    "import numpy as np\n",
    "from sklearn.metrics import mean_squared_error\n",
    "# Read Parquet file\n",
    "df = pd.read_parquet(\"yellow_tripdata_2023-01.parquet\")"
   ]
  },
  {
   "cell_type": "code",
   "execution_count": 57,
   "id": "cbd28423-5833-4836-93f0-ec049b4102d5",
   "metadata": {},
   "outputs": [
    {
     "name": "stdout",
     "output_type": "stream",
     "text": [
      "Number of columns: 19\n"
     ]
    }
   ],
   "source": [
    "# number of columns Approach 1\n",
    "num_columns = df.shape[1]\n",
    "#print(f\"Number of columns: {num_columns}\")\n",
    "print(\"Number of columns:\", num_columns)\n",
    "# alternatively\n",
    "# Get the number of columns Approach 2\n",
    "#num_columns = len(df.columns)\n",
    "#print(f\"Number of columns: {num_columns}\")"
   ]
  },
  {
   "cell_type": "markdown",
   "id": "33b67778-129c-4d24-88d4-020c3b9fed88",
   "metadata": {},
   "source": [
    "# Q2. Computing duration"
   ]
  },
  {
   "cell_type": "code",
   "execution_count": 58,
   "id": "50896667-4c3e-4a3c-b91d-bbf4d5b5541a",
   "metadata": {},
   "outputs": [],
   "source": [
    "# Compute the duration variable (duration of a ride in minutes).\n",
    "# What's the standard deviation of the trips duration in January?\n",
    "# creating a new column for the duration in minutes\n",
    "df[\"duration_minutes\"] = (\n",
    "    df[\"tpep_dropoff_datetime\"] - df[\"tpep_pickup_datetime\"]\n",
    ").dt.total_seconds() / 60"
   ]
  },
  {
   "cell_type": "code",
   "execution_count": 60,
   "id": "2fde12d6-7258-4c4a-af72-c55c2523a6f7",
   "metadata": {},
   "outputs": [
    {
     "name": "stdout",
     "output_type": "stream",
     "text": [
      "The standard deviation of the duration in minutes is: 42.594351241920904\n"
     ]
    }
   ],
   "source": [
    "# Compute the standard deviation\n",
    "stdv= df[\"duration_minutes\"].std()\n",
    "print (f\"The standard deviation of the duration in minutes is: {stdv}\")"
   ]
  },
  {
   "cell_type": "markdown",
   "id": "3b2d3569-8b6d-464d-9dc8-41c6fcaba1fd",
   "metadata": {},
   "source": [
    "# Q3. Dropping outliers"
   ]
  },
  {
   "cell_type": "code",
   "execution_count": 11,
   "id": "983bc633-2a8b-41b5-968a-f11e138463ad",
   "metadata": {},
   "outputs": [],
   "source": [
    "# Check the distribution of the duration variable. Remove outliers and keep only the records with duration was between 1 and 60 minutes (inclusive).\n",
    "#What fraction of the records left after you dropped the outliers?"
   ]
  },
  {
   "cell_type": "code",
   "execution_count": 61,
   "id": "02ac614f-ff4b-4e8c-b564-d1e143a766c8",
   "metadata": {},
   "outputs": [
    {
     "name": "stdout",
     "output_type": "stream",
     "text": [
      "count    3.066766e+06\n",
      "mean     1.566900e+01\n",
      "std      4.259435e+01\n",
      "min     -2.920000e+01\n",
      "25%      7.116667e+00\n",
      "50%      1.151667e+01\n",
      "75%      1.830000e+01\n",
      "max      1.002918e+04\n",
      "Name: duration_minutes, dtype: float64\n"
     ]
    }
   ],
   "source": [
    "# Summary Statistics\n",
    "# Summary stats\n",
    "print(df[\"duration_minutes\"].describe())"
   ]
  },
  {
   "cell_type": "code",
   "execution_count": 69,
   "id": "b8560ebf-568f-414d-8d86-38a6496e28b8",
   "metadata": {},
   "outputs": [
    {
     "data": {
      "image/png": "[encoded data removed]",
      "text/plain": [
       "<Figure size 1200x500 with 1 Axes>"
      ]
     },
     "metadata": {},
     "output_type": "display_data"
    }
   ],
   "source": [
    "# Visualising the distribution\n",
    "import matplotlib.pyplot as plt\n",
    "\n",
    "plt.figure(figsize=(12, 5))\n",
    "plt.hist(df[\"duration_minutes\"], bins= \"auto\", edgecolor='black')\n",
    "plt.title(\"Distribution of Trip Duration (in Minutes)\")\n",
    "plt.xlabel(\"Duration (minutes)\")\n",
    "plt.ylabel(\"Frequency\")\n",
    "plt.grid(True)\n",
    "plt.show()\n"
   ]
  },
  {
   "cell_type": "code",
   "execution_count": 12,
   "id": "40abdb60-3434-4d42-a55d-8d9a1a9198cc",
   "metadata": {},
   "outputs": [],
   "source": [
    "# Total records before filtering\n",
    "total_before = len(df)\n",
    "\n",
    "# Keep only durations between 1 and 60 minutes (inclusive)\n",
    "filtered_df = df[(df[\"duration_minutes\"] >= 1) & (df[\"duration_minutes\"] <= 60)]\n",
    "\n",
    "# Total records after filtering\n",
    "total_after = len(filtered_df)\n"
   ]
  },
  {
   "cell_type": "code",
   "execution_count": 13,
   "id": "66c5cc6c-9f0e-463c-b9b0-61c82e3832b0",
   "metadata": {},
   "outputs": [
    {
     "name": "stdout",
     "output_type": "stream",
     "text": [
      "Fraction of records remaining after removing outliers: 0.9812\n"
     ]
    }
   ],
   "source": [
    "fraction_remaining = total_after / total_before\n",
    "print(f\"Fraction of records remaining after removing outliers: {fraction_remaining:.4f}\")\n"
   ]
  },
  {
   "cell_type": "markdown",
   "id": "fdfebde0-7e10-4723-890c-74b76f79f184",
   "metadata": {},
   "source": [
    "# Q4. One-hot encoding"
   ]
  },
  {
   "cell_type": "code",
   "execution_count": 14,
   "id": "3302b371-c9f5-4f77-9568-e675f62d2abb",
   "metadata": {},
   "outputs": [],
   "source": [
    "#Let's apply one-hot encoding to the pickup and dropoff location IDs. We'll use only these two features for our model.\n",
    "#Turn the dataframe into a list of dictionaries (remember to re-cast the ids to strings - otherwise it will label encode them)\n",
    "#Fit a dictionary vectorizer\n",
    "#Get a feature matrix from it\n",
    "\n",
    "from sklearn.feature_extraction import DictVectorizer\n",
    "# Create a copy after filtering\n",
    "filtered_df = df[(df[\"duration_minutes\"] >= 1) & (df[\"duration_minutes\"] <= 60)].copy()\n",
    "\n",
    "# Now safely cast IDs to string\n",
    "filtered_df[\"PULocationID\"] = filtered_df[\"PULocationID\"].astype(str)\n",
    "filtered_df[\"DOLocationID\"] = filtered_df[\"DOLocationID\"].astype(str)\n"
   ]
  },
  {
   "cell_type": "code",
   "execution_count": 15,
   "id": "c940f1ae-2a28-4625-984b-73668000a0eb",
   "metadata": {},
   "outputs": [],
   "source": [
    "# Use only pickup and dropoff location IDs\n",
    "location_dicts = filtered_df[[\"PULocationID\", \"DOLocationID\"]].to_dict(orient=\"records\")\n"
   ]
  },
  {
   "cell_type": "code",
   "execution_count": 16,
   "id": "62b9abe9-4bad-4073-ae31-e8e62b51bcef",
   "metadata": {},
   "outputs": [],
   "source": [
    "# Initialize vectorizer\n",
    "vec = DictVectorizer(sparse=False)\n",
    "\n",
    "# Fit and transform the location data\n",
    "X = vec.fit_transform(location_dicts)"
   ]
  },
  {
   "cell_type": "code",
   "execution_count": 17,
   "id": "68094923-7bee-447b-9814-49cfb568f556",
   "metadata": {},
   "outputs": [
    {
     "name": "stdout",
     "output_type": "stream",
     "text": [
      "Feature matrix shape: (3009173, 515)\n",
      "Feature names: ['DOLocationID=1' 'DOLocationID=10' 'DOLocationID=100' 'DOLocationID=101'\n",
      " 'DOLocationID=102'] ...\n"
     ]
    }
   ],
   "source": [
    "print(f\"Feature matrix shape: {X.shape}\")\n",
    "print(f\"Feature names: {vec.get_feature_names_out()[:5]} ...\")"
   ]
  },
  {
   "cell_type": "markdown",
   "id": "6173ee46-ae14-41e1-9a7d-1f2278392307",
   "metadata": {},
   "source": [
    "# Q5. Training a model"
   ]
  },
  {
   "cell_type": "code",
   "execution_count": 18,
   "id": "bba42ef6-a150-43e0-85de-737f8d23e255",
   "metadata": {},
   "outputs": [],
   "source": [
    "#Train a plain linear regression model with default parameters, where duration is the response variable\n",
    "#Calculate the RMSE of the model on the training data\n",
    "from sklearn.metrics import mean_squared_error\n",
    "import numpy as np"
   ]
  },
  {
   "cell_type": "code",
   "execution_count": 19,
   "id": "d32e7c76-1351-4cc2-95ad-b546ecce516f",
   "metadata": {},
   "outputs": [],
   "source": [
    "y = filtered_df[\"duration_minutes\"].values"
   ]
  },
  {
   "cell_type": "code",
   "execution_count": 20,
   "id": "1a996cb7-ba70-42b0-91f8-d9011c1e7e2c",
   "metadata": {},
   "outputs": [
    {
     "data": {
      "text/html": [
       "<style>#sk-container-id-1 {\n",
       "  /* Definition of color scheme common for light and dark mode */\n",
       "  --sklearn-color-text: black;\n",
       "  --sklearn-color-line: gray;\n",
       "  /* Definition of color scheme for unfitted estimators */\n",
       "  --sklearn-color-unfitted-level-0: #fff5e6;\n",
       "  --sklearn-color-unfitted-level-1: #f6e4d2;\n",
       "  --sklearn-color-unfitted-level-2: #ffe0b3;\n",
       "  --sklearn-color-unfitted-level-3: chocolate;\n",
       "  /* Definition of color scheme for fitted estimators */\n",
       "  --sklearn-color-fitted-level-0: #f0f8ff;\n",
       "  --sklearn-color-fitted-level-1: #d4ebff;\n",
       "  --sklearn-color-fitted-level-2: #b3dbfd;\n",
       "  --sklearn-color-fitted-level-3: cornflowerblue;\n",
       "\n",
       "  /* Specific color for light theme */\n",
       "  --sklearn-color-text-on-default-background: var(--sg-text-color, var(--theme-code-foreground, var(--jp-content-font-color1, black)));\n",
       "  --sklearn-color-background: var(--sg-background-color, var(--theme-background, var(--jp-layout-color0, white)));\n",
       "  --sklearn-color-border-box: var(--sg-text-color, var(--theme-code-foreground, var(--jp-content-font-color1, black)));\n",
       "  --sklearn-color-icon: #696969;\n",
       "\n",
       "  @media (prefers-color-scheme: dark) {\n",
       "    /* Redefinition of color scheme for dark theme */\n",
       "    --sklearn-color-text-on-default-background: var(--sg-text-color, var(--theme-code-foreground, var(--jp-content-font-color1, white)));\n",
       "    --sklearn-color-background: var(--sg-background-color, var(--theme-background, var(--jp-layout-color0, #111)));\n",
       "    --sklearn-color-border-box: var(--sg-text-color, var(--theme-code-foreground, var(--jp-content-font-color1, white)));\n",
       "    --sklearn-color-icon: #878787;\n",
       "  }\n",
       "}\n",
       "\n",
       "#sk-container-id-1 {\n",
       "  color: var(--sklearn-color-text);\n",
       "}\n",
       "\n",
       "#sk-container-id-1 pre {\n",
       "  padding: 0;\n",
       "}\n",
       "\n",
       "#sk-container-id-1 input.sk-hidden--visually {\n",
       "  border: 0;\n",
       "  clip: rect(1px 1px 1px 1px);\n",
       "  clip: rect(1px, 1px, 1px, 1px);\n",
       "  height: 1px;\n",
       "  margin: -1px;\n",
       "  overflow: hidden;\n",
       "  padding: 0;\n",
       "  position: absolute;\n",
       "  width: 1px;\n",
       "}\n",
       "\n",
       "#sk-container-id-1 div.sk-dashed-wrapped {\n",
       "  border: 1px dashed var(--sklearn-color-line);\n",
       "  margin: 0 0.4em 0.5em 0.4em;\n",
       "  box-sizing: border-box;\n",
       "  padding-bottom: 0.4em;\n",
       "  background-color: var(--sklearn-color-background);\n",
       "}\n",
       "\n",
       "#sk-container-id-1 div.sk-container {\n",
       "  /* jupyter's `normalize.less` sets `[hidden] { display: none; }`\n",
       "     but bootstrap.min.css set `[hidden] { display: none !important; }`\n",
       "     so we also need the `!important` here to be able to override the\n",
       "     default hidden behavior on the sphinx rendered scikit-learn.org.\n",
       "     See: https://github.com/scikit-learn/scikit-learn/issues/21755 */\n",
       "  display: inline-block !important;\n",
       "  position: relative;\n",
       "}\n",
       "\n",
       "#sk-container-id-1 div.sk-text-repr-fallback {\n",
       "  display: none;\n",
       "}\n",
       "\n",
       "div.sk-parallel-item,\n",
       "div.sk-serial,\n",
       "div.sk-item {\n",
       "  /* draw centered vertical line to link estimators */\n",
       "  background-image: linear-gradient(var(--sklearn-color-text-on-default-background), var(--sklearn-color-text-on-default-background));\n",
       "  background-size: 2px 100%;\n",
       "  background-repeat: no-repeat;\n",
       "  background-position: center center;\n",
       "}\n",
       "\n",
       "/* Parallel-specific style estimator block */\n",
       "\n",
       "#sk-container-id-1 div.sk-parallel-item::after {\n",
       "  content: \"\";\n",
       "  width: 100%;\n",
       "  border-bottom: 2px solid var(--sklearn-color-text-on-default-background);\n",
       "  flex-grow: 1;\n",
       "}\n",
       "\n",
       "#sk-container-id-1 div.sk-parallel {\n",
       "  display: flex;\n",
       "  align-items: stretch;\n",
       "  justify-content: center;\n",
       "  background-color: var(--sklearn-color-background);\n",
       "  position: relative;\n",
       "}\n",
       "\n",
       "#sk-container-id-1 div.sk-parallel-item {\n",
       "  display: flex;\n",
       "  flex-direction: column;\n",
       "}\n",
       "\n",
       "#sk-container-id-1 div.sk-parallel-item:first-child::after {\n",
       "  align-self: flex-end;\n",
       "  width: 50%;\n",
       "}\n",
       "\n",
       "#sk-container-id-1 div.sk-parallel-item:last-child::after {\n",
       "  align-self: flex-start;\n",
       "  width: 50%;\n",
       "}\n",
       "\n",
       "#sk-container-id-1 div.sk-parallel-item:only-child::after {\n",
       "  width: 0;\n",
       "}\n",
       "\n",
       "/* Serial-specific style estimator block */\n",
       "\n",
       "#sk-container-id-1 div.sk-serial {\n",
       "  display: flex;\n",
       "  flex-direction: column;\n",
       "  align-items: center;\n",
       "  background-color: var(--sklearn-color-background);\n",
       "  padding-right: 1em;\n",
       "  padding-left: 1em;\n",
       "}\n",
       "\n",
       "\n",
       "/* Toggleable style: style used for estimator/Pipeline/ColumnTransformer box that is\n",
       "clickable and can be expanded/collapsed.\n",
       "- Pipeline and ColumnTransformer use this feature and define the default style\n",
       "- Estimators will overwrite some part of the style using the `sk-estimator` class\n",
       "*/\n",
       "\n",
       "/* Pipeline and ColumnTransformer style (default) */\n",
       "\n",
       "#sk-container-id-1 div.sk-toggleable {\n",
       "  /* Default theme specific background. It is overwritten whether we have a\n",
       "  specific estimator or a Pipeline/ColumnTransformer */\n",
       "  background-color: var(--sklearn-color-background);\n",
       "}\n",
       "\n",
       "/* Toggleable label */\n",
       "#sk-container-id-1 label.sk-toggleable__label {\n",
       "  cursor: pointer;\n",
       "  display: block;\n",
       "  width: 100%;\n",
       "  margin-bottom: 0;\n",
       "  padding: 0.5em;\n",
       "  box-sizing: border-box;\n",
       "  text-align: center;\n",
       "}\n",
       "\n",
       "#sk-container-id-1 label.sk-toggleable__label-arrow:before {\n",
       "  /* Arrow on the left of the label */\n",
       "  content: \"▸\";\n",
       "  float: left;\n",
       "  margin-right: 0.25em;\n",
       "  color: var(--sklearn-color-icon);\n",
       "}\n",
       "\n",
       "#sk-container-id-1 label.sk-toggleable__label-arrow:hover:before {\n",
       "  color: var(--sklearn-color-text);\n",
       "}\n",
       "\n",
       "/* Toggleable content - dropdown */\n",
       "\n",
       "#sk-container-id-1 div.sk-toggleable__content {\n",
       "  max-height: 0;\n",
       "  max-width: 0;\n",
       "  overflow: hidden;\n",
       "  text-align: left;\n",
       "  /* unfitted */\n",
       "  background-color: var(--sklearn-color-unfitted-level-0);\n",
       "}\n",
       "\n",
       "#sk-container-id-1 div.sk-toggleable__content.fitted {\n",
       "  /* fitted */\n",
       "  background-color: var(--sklearn-color-fitted-level-0);\n",
       "}\n",
       "\n",
       "#sk-container-id-1 div.sk-toggleable__content pre {\n",
       "  margin: 0.2em;\n",
       "  border-radius: 0.25em;\n",
       "  color: var(--sklearn-color-text);\n",
       "  /* unfitted */\n",
       "  background-color: var(--sklearn-color-unfitted-level-0);\n",
       "}\n",
       "\n",
       "#sk-container-id-1 div.sk-toggleable__content.fitted pre {\n",
       "  /* unfitted */\n",
       "  background-color: var(--sklearn-color-fitted-level-0);\n",
       "}\n",
       "\n",
       "#sk-container-id-1 input.sk-toggleable__control:checked~div.sk-toggleable__content {\n",
       "  /* Expand drop-down */\n",
       "  max-height: 200px;\n",
       "  max-width: 100%;\n",
       "  overflow: auto;\n",
       "}\n",
       "\n",
       "#sk-container-id-1 input.sk-toggleable__control:checked~label.sk-toggleable__label-arrow:before {\n",
       "  content: \"▾\";\n",
       "}\n",
       "\n",
       "/* Pipeline/ColumnTransformer-specific style */\n",
       "\n",
       "#sk-container-id-1 div.sk-label input.sk-toggleable__control:checked~label.sk-toggleable__label {\n",
       "  color: var(--sklearn-color-text);\n",
       "  background-color: var(--sklearn-color-unfitted-level-2);\n",
       "}\n",
       "\n",
       "#sk-container-id-1 div.sk-label.fitted input.sk-toggleable__control:checked~label.sk-toggleable__label {\n",
       "  background-color: var(--sklearn-color-fitted-level-2);\n",
       "}\n",
       "\n",
       "/* Estimator-specific style */\n",
       "\n",
       "/* Colorize estimator box */\n",
       "#sk-container-id-1 div.sk-estimator input.sk-toggleable__control:checked~label.sk-toggleable__label {\n",
       "  /* unfitted */\n",
       "  background-color: var(--sklearn-color-unfitted-level-2);\n",
       "}\n",
       "\n",
       "#sk-container-id-1 div.sk-estimator.fitted input.sk-toggleable__control:checked~label.sk-toggleable__label {\n",
       "  /* fitted */\n",
       "  background-color: var(--sklearn-color-fitted-level-2);\n",
       "}\n",
       "\n",
       "#sk-container-id-1 div.sk-label label.sk-toggleable__label,\n",
       "#sk-container-id-1 div.sk-label label {\n",
       "  /* The background is the default theme color */\n",
       "  color: var(--sklearn-color-text-on-default-background);\n",
       "}\n",
       "\n",
       "/* On hover, darken the color of the background */\n",
       "#sk-container-id-1 div.sk-label:hover label.sk-toggleable__label {\n",
       "  color: var(--sklearn-color-text);\n",
       "  background-color: var(--sklearn-color-unfitted-level-2);\n",
       "}\n",
       "\n",
       "/* Label box, darken color on hover, fitted */\n",
       "#sk-container-id-1 div.sk-label.fitted:hover label.sk-toggleable__label.fitted {\n",
       "  color: var(--sklearn-color-text);\n",
       "  background-color: var(--sklearn-color-fitted-level-2);\n",
       "}\n",
       "\n",
       "/* Estimator label */\n",
       "\n",
       "#sk-container-id-1 div.sk-label label {\n",
       "  font-family: monospace;\n",
       "  font-weight: bold;\n",
       "  display: inline-block;\n",
       "  line-height: 1.2em;\n",
       "}\n",
       "\n",
       "#sk-container-id-1 div.sk-label-container {\n",
       "  text-align: center;\n",
       "}\n",
       "\n",
       "/* Estimator-specific */\n",
       "#sk-container-id-1 div.sk-estimator {\n",
       "  font-family: monospace;\n",
       "  border: 1px dotted var(--sklearn-color-border-box);\n",
       "  border-radius: 0.25em;\n",
       "  box-sizing: border-box;\n",
       "  margin-bottom: 0.5em;\n",
       "  /* unfitted */\n",
       "  background-color: var(--sklearn-color-unfitted-level-0);\n",
       "}\n",
       "\n",
       "#sk-container-id-1 div.sk-estimator.fitted {\n",
       "  /* fitted */\n",
       "  background-color: var(--sklearn-color-fitted-level-0);\n",
       "}\n",
       "\n",
       "/* on hover */\n",
       "#sk-container-id-1 div.sk-estimator:hover {\n",
       "  /* unfitted */\n",
       "  background-color: var(--sklearn-color-unfitted-level-2);\n",
       "}\n",
       "\n",
       "#sk-container-id-1 div.sk-estimator.fitted:hover {\n",
       "  /* fitted */\n",
       "  background-color: var(--sklearn-color-fitted-level-2);\n",
       "}\n",
       "\n",
       "/* Specification for estimator info (e.g. \"i\" and \"?\") */\n",
       "\n",
       "/* Common style for \"i\" and \"?\" */\n",
       "\n",
       ".sk-estimator-doc-link,\n",
       "a:link.sk-estimator-doc-link,\n",
       "a:visited.sk-estimator-doc-link {\n",
       "  float: right;\n",
       "  font-size: smaller;\n",
       "  line-height: 1em;\n",
       "  font-family: monospace;\n",
       "  background-color: var(--sklearn-color-background);\n",
       "  border-radius: 1em;\n",
       "  height: 1em;\n",
       "  width: 1em;\n",
       "  text-decoration: none !important;\n",
       "  margin-left: 1ex;\n",
       "  /* unfitted */\n",
       "  border: var(--sklearn-color-unfitted-level-1) 1pt solid;\n",
       "  color: var(--sklearn-color-unfitted-level-1);\n",
       "}\n",
       "\n",
       ".sk-estimator-doc-link.fitted,\n",
       "a:link.sk-estimator-doc-link.fitted,\n",
       "a:visited.sk-estimator-doc-link.fitted {\n",
       "  /* fitted */\n",
       "  border: var(--sklearn-color-fitted-level-1) 1pt solid;\n",
       "  color: var(--sklearn-color-fitted-level-1);\n",
       "}\n",
       "\n",
       "/* On hover */\n",
       "div.sk-estimator:hover .sk-estimator-doc-link:hover,\n",
       ".sk-estimator-doc-link:hover,\n",
       "div.sk-label-container:hover .sk-estimator-doc-link:hover,\n",
       ".sk-estimator-doc-link:hover {\n",
       "  /* unfitted */\n",
       "  background-color: var(--sklearn-color-unfitted-level-3);\n",
       "  color: var(--sklearn-color-background);\n",
       "  text-decoration: none;\n",
       "}\n",
       "\n",
       "div.sk-estimator.fitted:hover .sk-estimator-doc-link.fitted:hover,\n",
       ".sk-estimator-doc-link.fitted:hover,\n",
       "div.sk-label-container:hover .sk-estimator-doc-link.fitted:hover,\n",
       ".sk-estimator-doc-link.fitted:hover {\n",
       "  /* fitted */\n",
       "  background-color: var(--sklearn-color-fitted-level-3);\n",
       "  color: var(--sklearn-color-background);\n",
       "  text-decoration: none;\n",
       "}\n",
       "\n",
       "/* Span, style for the box shown on hovering the info icon */\n",
       ".sk-estimator-doc-link span {\n",
       "  display: none;\n",
       "  z-index: 9999;\n",
       "  position: relative;\n",
       "  font-weight: normal;\n",
       "  right: .2ex;\n",
       "  padding: .5ex;\n",
       "  margin: .5ex;\n",
       "  width: min-content;\n",
       "  min-width: 20ex;\n",
       "  max-width: 50ex;\n",
       "  color: var(--sklearn-color-text);\n",
       "  box-shadow: 2pt 2pt 4pt #999;\n",
       "  /* unfitted */\n",
       "  background: var(--sklearn-color-unfitted-level-0);\n",
       "  border: .5pt solid var(--sklearn-color-unfitted-level-3);\n",
       "}\n",
       "\n",
       ".sk-estimator-doc-link.fitted span {\n",
       "  /* fitted */\n",
       "  background: var(--sklearn-color-fitted-level-0);\n",
       "  border: var(--sklearn-color-fitted-level-3);\n",
       "}\n",
       "\n",
       ".sk-estimator-doc-link:hover span {\n",
       "  display: block;\n",
       "}\n",
       "\n",
       "/* \"?\"-specific style due to the `<a>` HTML tag */\n",
       "\n",
       "#sk-container-id-1 a.estimator_doc_link {\n",
       "  float: right;\n",
       "  font-size: 1rem;\n",
       "  line-height: 1em;\n",
       "  font-family: monospace;\n",
       "  background-color: var(--sklearn-color-background);\n",
       "  border-radius: 1rem;\n",
       "  height: 1rem;\n",
       "  width: 1rem;\n",
       "  text-decoration: none;\n",
       "  /* unfitted */\n",
       "  color: var(--sklearn-color-unfitted-level-1);\n",
       "  border: var(--sklearn-color-unfitted-level-1) 1pt solid;\n",
       "}\n",
       "\n",
       "#sk-container-id-1 a.estimator_doc_link.fitted {\n",
       "  /* fitted */\n",
       "  border: var(--sklearn-color-fitted-level-1) 1pt solid;\n",
       "  color: var(--sklearn-color-fitted-level-1);\n",
       "}\n",
       "\n",
       "/* On hover */\n",
       "#sk-container-id-1 a.estimator_doc_link:hover {\n",
       "  /* unfitted */\n",
       "  background-color: var(--sklearn-color-unfitted-level-3);\n",
       "  color: var(--sklearn-color-background);\n",
       "  text-decoration: none;\n",
       "}\n",
       "\n",
       "#sk-container-id-1 a.estimator_doc_link.fitted:hover {\n",
       "  /* fitted */\n",
       "  background-color: var(--sklearn-color-fitted-level-3);\n",
       "}\n",
       "</style><div id=\"sk-container-id-1\" class=\"sk-top-container\"><div class=\"sk-text-repr-fallback\"><pre>LinearRegression()</pre><b>In a Jupyter environment, please rerun this cell to show the HTML representation or trust the notebook. <br />On GitHub, the HTML representation is unable to render, please try loading this page with nbviewer.org.</b></div><div class=\"sk-container\" hidden><div class=\"sk-item\"><div class=\"sk-estimator fitted sk-toggleable\"><input class=\"sk-toggleable__control sk-hidden--visually\" id=\"sk-estimator-id-1\" type=\"checkbox\" checked><label for=\"sk-estimator-id-1\" class=\"sk-toggleable__label fitted sk-toggleable__label-arrow fitted\">&nbsp;&nbsp;LinearRegression<a class=\"sk-estimator-doc-link fitted\" rel=\"noreferrer\" target=\"_blank\" href=\"https://scikit-learn.org/1.5/modules/generated/sklearn.linear_model.LinearRegression.html\">?<span>Documentation for LinearRegression</span></a><span class=\"sk-estimator-doc-link fitted\">i<span>Fitted</span></span></label><div class=\"sk-toggleable__content fitted\"><pre>LinearRegression()</pre></div> </div></div></div></div>"
      ],
      "text/plain": [
       "LinearRegression()"
      ]
     },
     "execution_count": 20,
     "metadata": {},
     "output_type": "execute_result"
    }
   ],
   "source": [
    "from sklearn.linear_model import LinearRegression\n",
    "regressor = LinearRegression()\n",
    "regressor.fit(X, y)"
   ]
  },
  {
   "cell_type": "code",
   "execution_count": 21,
   "id": "4f3f4bf3-2055-4d13-b128-501adab0967e",
   "metadata": {},
   "outputs": [],
   "source": [
    "y_pred = regressor.predict(X)"
   ]
  },
  {
   "cell_type": "code",
   "execution_count": 22,
   "id": "0f04b698-b76c-45ef-9188-44a62a063370",
   "metadata": {},
   "outputs": [],
   "source": [
    "mse = mean_squared_error(y, y_pred)\n",
    "rmse = np.sqrt(mse)"
   ]
  },
  {
   "cell_type": "code",
   "execution_count": 23,
   "id": "87df27b2-6323-4e43-a699-2ecb8486b66b",
   "metadata": {},
   "outputs": [
    {
     "data": {
      "text/plain": [
       "7.6492612791163355"
      ]
     },
     "execution_count": 23,
     "metadata": {},
     "output_type": "execute_result"
    }
   ],
   "source": [
    "rmse"
   ]
  },
  {
   "cell_type": "markdown",
   "id": "1674aebd-927f-44e9-9b10-b45bf926950f",
   "metadata": {},
   "source": [
    "# Q6. Evaluating the model"
   ]
  },
  {
   "cell_type": "code",
   "execution_count": 24,
   "id": "b28ec823-a1a8-4215-b24a-e8ce8c4ab922",
   "metadata": {},
   "outputs": [],
   "source": [
    "df2 = pd.read_parquet(\"yellow_tripdata_2023-02.parquet\")"
   ]
  },
  {
   "cell_type": "code",
   "execution_count": 25,
   "id": "aec9c8f2-6c2a-4a45-aad8-cbfec5a96853",
   "metadata": {},
   "outputs": [
    {
     "data": {
      "text/plain": [
       "VendorID                     0\n",
       "tpep_pickup_datetime         0\n",
       "tpep_dropoff_datetime        0\n",
       "passenger_count          76817\n",
       "trip_distance                0\n",
       "RatecodeID               76817\n",
       "store_and_fwd_flag       76817\n",
       "PULocationID                 0\n",
       "DOLocationID                 0\n",
       "payment_type                 0\n",
       "fare_amount                  0\n",
       "extra                        0\n",
       "mta_tax                      0\n",
       "tip_amount                   0\n",
       "tolls_amount                 0\n",
       "improvement_surcharge        0\n",
       "total_amount                 0\n",
       "congestion_surcharge     76817\n",
       "Airport_fee              76817\n",
       "dtype: int64"
      ]
     },
     "execution_count": 25,
     "metadata": {},
     "output_type": "execute_result"
    }
   ],
   "source": [
    "df2.isnull().sum()"
   ]
  },
  {
   "cell_type": "code",
   "execution_count": 46,
   "id": "6efa48c3-58bd-4a5b-9ded-30b846ca93bd",
   "metadata": {},
   "outputs": [],
   "source": [
    "df2[\"duration_minutes\"] = (df2[\"tpep_dropoff_datetime\"] - df2[\"tpep_pickup_datetime\"]).dt.total_seconds() / 60"
   ]
  },
  {
   "cell_type": "code",
   "execution_count": 47,
   "id": "d077dbba-846e-4028-977e-10c434d1b8a5",
   "metadata": {},
   "outputs": [],
   "source": [
    "# Step 2: Filter valid durations\n",
    "df2 = df2[(df2[\"duration_minutes\"] >= 1) & (df2[\"duration_minutes\"] <= 60)].copy()"
   ]
  },
  {
   "cell_type": "code",
   "execution_count": 48,
   "id": "dd05f470-37d7-468e-9c6b-173fe5f829a2",
   "metadata": {},
   "outputs": [],
   "source": [
    "# Step 3: Cast to string for vectorizer compatibility\n",
    "df2[\"PULocationID\"] =df2[\"PULocationID\"].astype(int).astype(str)\n",
    "df2[\"DOLocationID\"] = df2[\"DOLocationID\"].astype(int).astype(str)"
   ]
  },
  {
   "cell_type": "code",
   "execution_count": 49,
   "id": "fc71c5cb-4a9e-47ec-8108-c289347905a0",
   "metadata": {},
   "outputs": [],
   "source": [
    "# Step 4 Filter out unknown categories based on training vectorizer\n",
    "known_features = set(vec.get_feature_names_out())\n",
    "def is_known(row):\n",
    "    return f'PULocationID={row[\"PULocationID\"]}' in known_features and f'DOLocationID={row[\"DOLocationID\"]}' in known_features\n",
    "\n",
    "df2_clean = df2[df2.apply(is_known, axis=1)].copy()"
   ]
  },
  {
   "cell_type": "code",
   "execution_count": 51,
   "id": "b4fd28eb-d163-4006-9a72-3f80ab035b4e",
   "metadata": {},
   "outputs": [],
   "source": [
    "# Step 5: Convert to dicts\n",
    "val_dicts = df2_clean[[\"PULocationID\", \"DOLocationID\"]].to_dict(orient=\"records\")"
   ]
  },
  {
   "cell_type": "code",
   "execution_count": 52,
   "id": "b21ba5ee-b001-4e10-8522-1271c5ecc923",
   "metadata": {},
   "outputs": [],
   "source": [
    "# Step 6: Transform and predict\n",
    "X_val = vec.transform(val_dicts)\n",
    "y_val = df2_clean[\"duration_minutes\"].values\n",
    "y_pred = regressor.predict(X_val)"
   ]
  },
  {
   "cell_type": "code",
   "execution_count": 53,
   "id": "c076b7fc-efee-4677-8f53-536d28954cf2",
   "metadata": {},
   "outputs": [
    {
     "name": "stdout",
     "output_type": "stream",
     "text": [
      "Validation RMSE on January data: 7.81 minutes\n"
     ]
    }
   ],
   "source": [
    "# Step 8: Compute RMSE\n",
    "rmse_val = np.sqrt(mean_squared_error(y_val, y_pred))\n",
    "print(f\"Validation RMSE on January data: {rmse_val:.2f} minutes\")"
   ]
  },
  {
   "cell_type": "code",
   "execution_count": null,
   "id": "bb5053d5-a214-4283-8076-932d9dcaf16b",
   "metadata": {},
   "outputs": [],
   "source": []
  }
 ],
 "metadata": {
  "kernelspec": {
   "display_name": "Python 3 (ipykernel)",
   "language": "python",
   "name": "python3"
  },
  "language_info": {
   "codemirror_mode": {
    "name": "ipython",
    "version": 3
   },
   "file_extension": ".py",
   "mimetype": "text/x-python",
   "name": "python",
   "nbconvert_exporter": "python",
   "pygments_lexer": "ipython3",
   "version": "3.12.9"
  }
 },
 "nbformat": 4,
 "nbformat_minor": 5
}
